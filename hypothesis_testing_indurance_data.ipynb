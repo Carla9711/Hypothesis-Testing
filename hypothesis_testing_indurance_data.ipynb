{
 "cells": [
  {
   "cell_type": "code",
   "execution_count": 28,
   "id": "ccf440a4-617d-44e9-add1-071da57eaeb0",
   "metadata": {},
   "outputs": [],
   "source": [
    "import pandas as pd\n",
    "import numpy as np\n",
    "import matplotlib.pyplot as plt\n",
    "import seaborn as sns\n",
    "import scipy.stats as stats"
   ]
  },
  {
   "cell_type": "code",
   "execution_count": 29,
   "id": "be32061b-b738-49d6-92d9-272a681265a4",
   "metadata": {},
   "outputs": [
    {
     "data": {
      "text/html": [
       "<div>\n",
       "<style scoped>\n",
       "    .dataframe tbody tr th:only-of-type {\n",
       "        vertical-align: middle;\n",
       "    }\n",
       "\n",
       "    .dataframe tbody tr th {\n",
       "        vertical-align: top;\n",
       "    }\n",
       "\n",
       "    .dataframe thead th {\n",
       "        text-align: right;\n",
       "    }\n",
       "</style>\n",
       "<table border=\"1\" class=\"dataframe\">\n",
       "  <thead>\n",
       "    <tr style=\"text-align: right;\">\n",
       "      <th></th>\n",
       "      <th>age</th>\n",
       "      <th>sex</th>\n",
       "      <th>bmi</th>\n",
       "      <th>children</th>\n",
       "      <th>smoker</th>\n",
       "      <th>region</th>\n",
       "      <th>charges</th>\n",
       "    </tr>\n",
       "  </thead>\n",
       "  <tbody>\n",
       "    <tr>\n",
       "      <th>0</th>\n",
       "      <td>19</td>\n",
       "      <td>female</td>\n",
       "      <td>27.900</td>\n",
       "      <td>0</td>\n",
       "      <td>yes</td>\n",
       "      <td>southwest</td>\n",
       "      <td>16884.92400</td>\n",
       "    </tr>\n",
       "    <tr>\n",
       "      <th>1</th>\n",
       "      <td>18</td>\n",
       "      <td>male</td>\n",
       "      <td>33.770</td>\n",
       "      <td>1</td>\n",
       "      <td>no</td>\n",
       "      <td>southeast</td>\n",
       "      <td>1725.55230</td>\n",
       "    </tr>\n",
       "    <tr>\n",
       "      <th>2</th>\n",
       "      <td>28</td>\n",
       "      <td>male</td>\n",
       "      <td>33.000</td>\n",
       "      <td>3</td>\n",
       "      <td>no</td>\n",
       "      <td>southeast</td>\n",
       "      <td>4449.46200</td>\n",
       "    </tr>\n",
       "    <tr>\n",
       "      <th>3</th>\n",
       "      <td>33</td>\n",
       "      <td>male</td>\n",
       "      <td>22.705</td>\n",
       "      <td>0</td>\n",
       "      <td>no</td>\n",
       "      <td>northwest</td>\n",
       "      <td>21984.47061</td>\n",
       "    </tr>\n",
       "    <tr>\n",
       "      <th>4</th>\n",
       "      <td>32</td>\n",
       "      <td>male</td>\n",
       "      <td>28.880</td>\n",
       "      <td>0</td>\n",
       "      <td>no</td>\n",
       "      <td>northwest</td>\n",
       "      <td>3866.85520</td>\n",
       "    </tr>\n",
       "  </tbody>\n",
       "</table>\n",
       "</div>"
      ],
      "text/plain": [
       "   age     sex     bmi  children smoker     region      charges\n",
       "0   19  female  27.900         0    yes  southwest  16884.92400\n",
       "1   18    male  33.770         1     no  southeast   1725.55230\n",
       "2   28    male  33.000         3     no  southeast   4449.46200\n",
       "3   33    male  22.705         0     no  northwest  21984.47061\n",
       "4   32    male  28.880         0     no  northwest   3866.85520"
      ]
     },
     "execution_count": 29,
     "metadata": {},
     "output_type": "execute_result"
    }
   ],
   "source": [
    "df = pd.read_csv('https://docs.google.com/spreadsheets/d/e/2PACX-1vQBN8DPW2rdiRrY34eEM53HAzakNGSRrw4ogI-j8HyCUrbqTB_z4CeIn2IvjLF-w_6sOe5pIlypJGAA/pub?output=csv')\n",
    "df.head()                "
   ]
  },
  {
   "cell_type": "markdown",
   "id": "115b3e99-ffb0-4bc3-ace6-97a3e77a70d4",
   "metadata": {},
   "source": [
    "## Q1: Do smokers have higher insurance charges than non-smokers?"
   ]
  },
  {
   "cell_type": "markdown",
   "id": "d3fee95c-6ff5-4955-908e-7ff5553b8a40",
   "metadata": {},
   "source": [
    "H0 - There is no significant difference between the charges of non-smokers and smokers\n",
    "\n",
    "H1 - There is a significant difference between the charges of non-smokers and smokers\n",
    "\n",
    "Slignificance Level (Alpha) - 0.05\n",
    "\n",
    "Test Type - 2 Sample T-Test\n",
    "\n",
    "Assumptions:\n",
    "* No significant outliers\n",
    "* Normality\n",
    "* Equal Variance"
   ]
  },
  {
   "cell_type": "markdown",
   "id": "469cede4-710f-478a-9205-e39e93717bb1",
   "metadata": {},
   "source": [
    "This code references the Coding Dojo lecture - [Walkthrough T-test](https://login.codingdojo.com/m/720/16269/120438)"
   ]
  },
  {
   "cell_type": "code",
   "execution_count": 30,
   "id": "814a0b57-7cb4-4254-9b29-a0071b4cdd07",
   "metadata": {},
   "outputs": [
    {
     "data": {
      "text/plain": [
       "no     1064\n",
       "yes     274\n",
       "Name: smoker, dtype: int64"
      ]
     },
     "execution_count": 30,
     "metadata": {},
     "output_type": "execute_result"
    }
   ],
   "source": [
    "# check how many customers in each group\n",
    "df['smoker'].value_counts()"
   ]
  },
  {
   "cell_type": "code",
   "execution_count": 31,
   "id": "6458ee03-142c-44c0-9f74-38b1e29955dd",
   "metadata": {},
   "outputs": [],
   "source": [
    "# split data into two groups\n",
    "non_smoker = df.loc[df['smoker']=='no'].copy()\n",
    "smoker = df.loc[df['smoker']=='yes'].copy()"
   ]
  },
  {
   "cell_type": "code",
   "execution_count": 32,
   "id": "168046f0-04a6-4dfc-a490-53730c6c2d96",
   "metadata": {},
   "outputs": [],
   "source": [
    "# isolate chargers in each data set\n",
    "non_smoker_charges = non_smoker['charges']\n",
    "smoker_charges = smoker['charges']"
   ]
  },
  {
   "cell_type": "code",
   "execution_count": 33,
   "id": "a5928d84-6ccf-4675-bb4f-5c5ebf1b7b5b",
   "metadata": {},
   "outputs": [
    {
     "data": {
      "text/plain": [
       "0     16884.9240\n",
       "11    27808.7251\n",
       "14    39611.7577\n",
       "19    36837.4670\n",
       "23    37701.8768\n",
       "Name: charges, dtype: float64"
      ]
     },
     "execution_count": 33,
     "metadata": {},
     "output_type": "execute_result"
    }
   ],
   "source": [
    "smoker_charges.head()"
   ]
  },
  {
   "cell_type": "code",
   "execution_count": 34,
   "id": "66f580b6-10fc-4b7a-bf0d-531cf79207d8",
   "metadata": {},
   "outputs": [
    {
     "data": {
      "text/plain": [
       "1064"
      ]
     },
     "execution_count": 34,
     "metadata": {},
     "output_type": "execute_result"
    }
   ],
   "source": [
    "non_smoker_charges.count()"
   ]
  },
  {
   "cell_type": "code",
   "execution_count": 35,
   "id": "1089f76f-3cc8-4470-a34d-b5d59b55584a",
   "metadata": {},
   "outputs": [
    {
     "data": {
      "text/plain": [
       "24"
      ]
     },
     "execution_count": 35,
     "metadata": {},
     "output_type": "execute_result"
    }
   ],
   "source": [
    "# check for outliers - non-smoker\n",
    "zscores = stats.zscore(non_smoker_charges)\n",
    "outliers = abs(zscores)>3\n",
    "np.sum(outliers)"
   ]
  },
  {
   "cell_type": "code",
   "execution_count": 36,
   "id": "25ffa7d9-d892-429e-8e49-25d52133ec48",
   "metadata": {},
   "outputs": [],
   "source": [
    "# remove outliers - non-smoker\n",
    "non_smoker_charges = non_smoker_charges[(np.abs(stats.zscore(non_smoker_charges)) < 3)]"
   ]
  },
  {
   "cell_type": "code",
   "execution_count": 37,
   "id": "e5ac3b2d-5e50-4d34-b472-fec8178f3320",
   "metadata": {},
   "outputs": [
    {
     "data": {
      "text/plain": [
       "1040"
      ]
     },
     "execution_count": 37,
     "metadata": {},
     "output_type": "execute_result"
    }
   ],
   "source": [
    "non_smoker_charges.count()"
   ]
  },
  {
   "cell_type": "code",
   "execution_count": 38,
   "id": "8aac77f2-74c6-4fbf-bf6f-6a7f4a80b5a1",
   "metadata": {},
   "outputs": [
    {
     "data": {
      "text/plain": [
       "0"
      ]
     },
     "execution_count": 38,
     "metadata": {},
     "output_type": "execute_result"
    }
   ],
   "source": [
    "# check for outliers - smoker\n",
    "zscores = stats.zscore(smoker_charges)\n",
    "outliers = abs(zscores)>3\n",
    "np.sum(outliers)"
   ]
  },
  {
   "cell_type": "code",
   "execution_count": 39,
   "id": "44d5d807-d192-471e-bd09-fd35c127d087",
   "metadata": {},
   "outputs": [
    {
     "data": {
      "text/plain": [
       "NormaltestResult(statistic=163.80367047789198, pvalue=2.6945416315543976e-36)"
      ]
     },
     "execution_count": 39,
     "metadata": {},
     "output_type": "execute_result"
    }
   ],
   "source": [
    "# check normality - non-smoker\n",
    "results_non_smoker_charges = stats.normaltest(non_smoker_charges)\n",
    "results_non_smoker_charges"
   ]
  },
  {
   "cell_type": "code",
   "execution_count": 40,
   "id": "52468254-b61f-43f9-ad2a-580234a16715",
   "metadata": {},
   "outputs": [
    {
     "data": {
      "text/plain": [
       "NormaltestResult(statistic=61.03941356533816, pvalue=5.564930630036463e-14)"
      ]
     },
     "execution_count": 40,
     "metadata": {},
     "output_type": "execute_result"
    }
   ],
   "source": [
    "# check normality - smoker\n",
    "results_smoker_charges = stats.normaltest(smoker_charges)\n",
    "results_smoker_charges"
   ]
  },
  {
   "cell_type": "markdown",
   "id": "92e108f4-f3c5-44d1-ad47-9867600c71d9",
   "metadata": {},
   "source": [
    "The p-values for both groups are below 0.05 which means the data is not normal, however,the sample size of each group is large enough (>15) to proceed without satisfying this test."
   ]
  },
  {
   "cell_type": "code",
   "execution_count": 41,
   "id": "3c08ef85-13de-406d-8696-0bc4469e5d68",
   "metadata": {},
   "outputs": [
    {
     "data": {
      "text/plain": [
       "LeveneResult(statistic=520.7468821724297, pvalue=2.4247238784347824e-97)"
      ]
     },
     "execution_count": 41,
     "metadata": {},
     "output_type": "execute_result"
    }
   ],
   "source": [
    "# check equal variance\n",
    "result = stats.levene(non_smoker_charges, smoker_charges)\n",
    "result"
   ]
  },
  {
   "cell_type": "markdown",
   "id": "d3c9fb05-ba23-48ab-a5d7-1a47d2931186",
   "metadata": {},
   "source": [
    "The two samples do not have equal variance therefore I will include equal_var=False when performning the t-test"
   ]
  },
  {
   "cell_type": "code",
   "execution_count": 42,
   "id": "46f05ff8-18e9-4d3f-abfc-1415841ca5d6",
   "metadata": {},
   "outputs": [
    {
     "data": {
      "text/plain": [
       "Ttest_indResult(statistic=-33.732305987092516, pvalue=2.575322662587431e-104)"
      ]
     },
     "execution_count": 42,
     "metadata": {},
     "output_type": "execute_result"
    }
   ],
   "source": [
    "result = stats.ttest_ind(non_smoker_charges, smoker_charges, equal_var=False)\n",
    "result"
   ]
  },
  {
   "cell_type": "markdown",
   "id": "9fabcc5f-8711-406d-bf80-8d0e3a9daef0",
   "metadata": {},
   "source": [
    "The p-value is smaller than alpha (0.05) so we can reject the null hypothesis and accept that there is a significan difference between the charges of non-smokers and smokers"
   ]
  },
  {
   "cell_type": "code",
   "execution_count": 43,
   "id": "4d30098c-3a6b-4c85-b653-2702fd06d04a",
   "metadata": {},
   "outputs": [],
   "source": [
    "mean_ns = np.mean(non_smoker_charges)\n",
    "mean_s = np.mean(smoker_charges)"
   ]
  },
  {
   "cell_type": "code",
   "execution_count": 44,
   "id": "5bda7574-9428-4ccd-bb71-3c7e7b628e8a",
   "metadata": {},
   "outputs": [
    {
     "data": {
      "image/png": "[encoded data removed]",
      "text/plain": [
       "<Figure size 1000x600 with 1 Axes>"
      ]
     },
     "metadata": {},
     "output_type": "display_data"
    }
   ],
   "source": [
    "# visualize distribution of each group\n",
    "fig, ax = plt.subplots(figsize=(10,6))\n",
    "\n",
    "sns.histplot(x=non_smoker_charges, stat='density',kde=True)\n",
    "ax.axvline(mean_ns, color='blue',ls='--', label='non-smoker mean')\n",
    "\n",
    "sns.histplot(x=smoker_charges, stat='density',kde=True)\n",
    "ax.axvline(mean_s, color='orange', ls='--', label='smoker mean')\n",
    "\n",
    "ax.set_title('Charges')\n",
    "ax.legend();"
   ]
  },
  {
   "cell_type": "code",
   "execution_count": 45,
   "id": "90025098-9250-4964-8db4-f128a6086659",
   "metadata": {},
   "outputs": [
    {
     "data": {
      "image/png": "[encoded data removed]",
      "text/plain": [
       "<Figure size 600x400 with 1 Axes>"
      ]
     },
     "metadata": {},
     "output_type": "display_data"
    }
   ],
   "source": [
    "fig, ax = plt.subplots(figsize=(6,4))\n",
    "sns.barplot(x=df['smoker'],y=df['charges'])\n",
    "ax.set_title('Mean charge of smoker vs non smoker');"
   ]
  },
  {
   "cell_type": "markdown",
   "id": "7ddebe07-d54a-4744-96df-5f42fba72082",
   "metadata": {},
   "source": [
    "From the two visualisations above it can be seen that the average charge of smokers is much larger than that of non-smokers"
   ]
  },
  {
   "cell_type": "markdown",
   "id": "d0654ae3-9903-40fc-b0e9-8be2cae863b9",
   "metadata": {},
   "source": [
    "## Q2:Are men more likely to smoke than women?"
   ]
  },
  {
   "cell_type": "markdown",
   "id": "ff1fc794-3d97-4ea9-a1b5-2aa763b94949",
   "metadata": {},
   "source": [
    "H0 - There is no relationship between sex and a clients smoking status\n",
    "\n",
    "H1 - A clients sex influences their smoking status\n",
    "\n",
    "Slignificance Level (Alpha) - 0.05\n",
    "\n",
    "Test Type - Chi-squared\n",
    "\n",
    "Assumptions:\n",
    "* There are two categorical variables \n",
    "* The outcomes are independent"
   ]
  },
  {
   "cell_type": "markdown",
   "id": "a97655c0-d353-444d-8c22-45b5e62e0458",
   "metadata": {},
   "source": [
    "This code references the Coding Dojo lecture - [Categorical Hypothesis Testing](https://login.codingdojo.com/m/720/16269/120440)"
   ]
  },
  {
   "cell_type": "code",
   "execution_count": 46,
   "id": "de2a2b71-5536-4dbe-8a7d-2c8633aae5ce",
   "metadata": {},
   "outputs": [
    {
     "data": {
      "text/html": [
       "<div>\n",
       "<style scoped>\n",
       "    .dataframe tbody tr th:only-of-type {\n",
       "        vertical-align: middle;\n",
       "    }\n",
       "\n",
       "    .dataframe tbody tr th {\n",
       "        vertical-align: top;\n",
       "    }\n",
       "\n",
       "    .dataframe thead th {\n",
       "        text-align: right;\n",
       "    }\n",
       "</style>\n",
       "<table border=\"1\" class=\"dataframe\">\n",
       "  <thead>\n",
       "    <tr style=\"text-align: right;\">\n",
       "      <th></th>\n",
       "      <th>age</th>\n",
       "      <th>sex</th>\n",
       "      <th>bmi</th>\n",
       "      <th>children</th>\n",
       "      <th>smoker</th>\n",
       "      <th>region</th>\n",
       "      <th>charges</th>\n",
       "    </tr>\n",
       "  </thead>\n",
       "  <tbody>\n",
       "    <tr>\n",
       "      <th>0</th>\n",
       "      <td>19</td>\n",
       "      <td>female</td>\n",
       "      <td>27.900</td>\n",
       "      <td>0</td>\n",
       "      <td>yes</td>\n",
       "      <td>southwest</td>\n",
       "      <td>16884.92400</td>\n",
       "    </tr>\n",
       "    <tr>\n",
       "      <th>1</th>\n",
       "      <td>18</td>\n",
       "      <td>male</td>\n",
       "      <td>33.770</td>\n",
       "      <td>1</td>\n",
       "      <td>no</td>\n",
       "      <td>southeast</td>\n",
       "      <td>1725.55230</td>\n",
       "    </tr>\n",
       "    <tr>\n",
       "      <th>2</th>\n",
       "      <td>28</td>\n",
       "      <td>male</td>\n",
       "      <td>33.000</td>\n",
       "      <td>3</td>\n",
       "      <td>no</td>\n",
       "      <td>southeast</td>\n",
       "      <td>4449.46200</td>\n",
       "    </tr>\n",
       "    <tr>\n",
       "      <th>3</th>\n",
       "      <td>33</td>\n",
       "      <td>male</td>\n",
       "      <td>22.705</td>\n",
       "      <td>0</td>\n",
       "      <td>no</td>\n",
       "      <td>northwest</td>\n",
       "      <td>21984.47061</td>\n",
       "    </tr>\n",
       "    <tr>\n",
       "      <th>4</th>\n",
       "      <td>32</td>\n",
       "      <td>male</td>\n",
       "      <td>28.880</td>\n",
       "      <td>0</td>\n",
       "      <td>no</td>\n",
       "      <td>northwest</td>\n",
       "      <td>3866.85520</td>\n",
       "    </tr>\n",
       "  </tbody>\n",
       "</table>\n",
       "</div>"
      ],
      "text/plain": [
       "   age     sex     bmi  children smoker     region      charges\n",
       "0   19  female  27.900         0    yes  southwest  16884.92400\n",
       "1   18    male  33.770         1     no  southeast   1725.55230\n",
       "2   28    male  33.000         3     no  southeast   4449.46200\n",
       "3   33    male  22.705         0     no  northwest  21984.47061\n",
       "4   32    male  28.880         0     no  northwest   3866.85520"
      ]
     },
     "execution_count": 46,
     "metadata": {},
     "output_type": "execute_result"
    }
   ],
   "source": [
    "df.head()"
   ]
  },
  {
   "cell_type": "code",
   "execution_count": 47,
   "id": "9becdddc-7fd2-49b0-9ba4-d3bb5f559a6a",
   "metadata": {},
   "outputs": [
    {
     "data": {
      "text/html": [
       "<div>\n",
       "<style scoped>\n",
       "    .dataframe tbody tr th:only-of-type {\n",
       "        vertical-align: middle;\n",
       "    }\n",
       "\n",
       "    .dataframe tbody tr th {\n",
       "        vertical-align: top;\n",
       "    }\n",
       "\n",
       "    .dataframe thead th {\n",
       "        text-align: right;\n",
       "    }\n",
       "</style>\n",
       "<table border=\"1\" class=\"dataframe\">\n",
       "  <thead>\n",
       "    <tr style=\"text-align: right;\">\n",
       "      <th>smoker</th>\n",
       "      <th>no</th>\n",
       "      <th>yes</th>\n",
       "    </tr>\n",
       "    <tr>\n",
       "      <th>sex</th>\n",
       "      <th></th>\n",
       "      <th></th>\n",
       "    </tr>\n",
       "  </thead>\n",
       "  <tbody>\n",
       "    <tr>\n",
       "      <th>female</th>\n",
       "      <td>547</td>\n",
       "      <td>115</td>\n",
       "    </tr>\n",
       "    <tr>\n",
       "      <th>male</th>\n",
       "      <td>517</td>\n",
       "      <td>159</td>\n",
       "    </tr>\n",
       "  </tbody>\n",
       "</table>\n",
       "</div>"
      ],
      "text/plain": [
       "smoker   no  yes\n",
       "sex             \n",
       "female  547  115\n",
       "male    517  159"
      ]
     },
     "execution_count": 47,
     "metadata": {},
     "output_type": "execute_result"
    }
   ],
   "source": [
    "# create contigency table for test\n",
    "table = pd.crosstab(df['sex'],df['smoker'])\n",
    "table"
   ]
  },
  {
   "cell_type": "code",
   "execution_count": 48,
   "id": "cd1ee41d-245e-4aac-ab92-a6c3a48c80b4",
   "metadata": {},
   "outputs": [],
   "source": [
    "# save and calculate results\n",
    "results = stats.chi2_contingency(table)\n",
    "chi2, p, deg_free, expected_vals = results"
   ]
  },
  {
   "cell_type": "code",
   "execution_count": 49,
   "id": "01c832c0-c355-421b-9ea5-0b664508e3e4",
   "metadata": {},
   "outputs": [
    {
     "name": "stdout",
     "output_type": "stream",
     "text": [
      "0.006548143503580696\n"
     ]
    },
    {
     "data": {
      "text/plain": [
       "True"
      ]
     },
     "execution_count": 49,
     "metadata": {},
     "output_type": "execute_result"
    }
   ],
   "source": [
    "print(p)\n",
    "p<0.05"
   ]
  },
  {
   "cell_type": "markdown",
   "id": "b2dac370-357b-431d-aa26-d5b69285d1f9",
   "metadata": {},
   "source": [
    "The p value is less than 0.05 so I will reject the null hypothesis and accept the alternate hypothesis that the there is a relationship between a clients sex and smoking status"
   ]
  },
  {
   "cell_type": "code",
   "execution_count": 50,
   "id": "6f50d261-79d6-480d-ad08-615a34d30ef7",
   "metadata": {},
   "outputs": [
    {
     "data": {
      "image/png": "[encoded data removed]",
      "text/plain": [
       "<Figure size 600x400 with 1 Axes>"
      ]
     },
     "metadata": {},
     "output_type": "display_data"
    }
   ],
   "source": [
    "fig, ax = plt.subplots(figsize=(6,4))\n",
    "sns.countplot(data=df, x='sex', hue='smoker')\n",
    "ax.set_title('Number of smokers vs non-smokers by sex');"
   ]
  },
  {
   "cell_type": "markdown",
   "id": "61d4c1ff-5bb9-4af6-a94b-3ba96c858189",
   "metadata": {},
   "source": [
    "The plot above indicates that males are more likely to be smokers than females"
   ]
  },
  {
   "cell_type": "markdown",
   "id": "9d0e059a-5bae-4b92-8bd8-3ee6ad401f97",
   "metadata": {},
   "source": [
    "## Q3:Do different regions have different charges, on average?"
   ]
  },
  {
   "cell_type": "markdown",
   "id": "151047b9-f161-475a-ae55-fab09ee46df5",
   "metadata": {},
   "source": [
    "H0 - Different regions have the same charge\n",
    "\n",
    "H1 - Different regions have different charges\n",
    "\n",
    "Slignificance Level (Alpha) - 0.05\n",
    "\n",
    "Test Type - One Way ANOVA\n",
    "\n",
    "Assumptions:\n",
    "* No significant outliers\n",
    "* Equal Variance\n",
    "* Normality"
   ]
  },
  {
   "cell_type": "markdown",
   "id": "8a4ffd30-0fb1-49a2-a13b-ec6e1ff5b935",
   "metadata": {},
   "source": [
    "This code references the Coding Dojo lecture - [ANOVA Tests](https://login.codingdojo.com/m/720/16269/120439)"
   ]
  },
  {
   "cell_type": "code",
   "execution_count": 51,
   "id": "bf10c938-bd7e-4290-a770-678c6f203d3a",
   "metadata": {},
   "outputs": [
    {
     "data": {
      "text/plain": [
       "southeast    364\n",
       "southwest    325\n",
       "northwest    325\n",
       "northeast    324\n",
       "Name: region, dtype: int64"
      ]
     },
     "execution_count": 51,
     "metadata": {},
     "output_type": "execute_result"
    }
   ],
   "source": [
    "df['region'].value_counts()"
   ]
  },
  {
   "cell_type": "code",
   "execution_count": 52,
   "id": "e079cef3-9b58-469d-8009-79c5e02513fa",
   "metadata": {},
   "outputs": [],
   "source": [
    "# create groups dictionary\n",
    "groups = {}\n",
    "\n",
    "# loop through unique regions\n",
    "for i in df['region'].unique():\n",
    "    data = df.loc[df['region']==i,'charges'].copy()\n",
    "    \n",
    "    # save data in dictionary\n",
    "    groups[i] = data"
   ]
  },
  {
   "cell_type": "code",
   "execution_count": 53,
   "id": "a08e2337-729f-4943-8c53-5a6e77deea40",
   "metadata": {},
   "outputs": [
    {
     "data": {
      "text/plain": [
       "dict_keys(['southwest', 'southeast', 'northwest', 'northeast'])"
      ]
     },
     "execution_count": 53,
     "metadata": {},
     "output_type": "execute_result"
    }
   ],
   "source": [
    "groups.keys()"
   ]
  },
  {
   "cell_type": "code",
   "execution_count": 54,
   "id": "a2328f0d-40f6-4382-ba66-a2964be5c6e2",
   "metadata": {},
   "outputs": [
    {
     "data": {
      "text/plain": [
       "1        1725.5523\n",
       "2        4449.4620\n",
       "5        3756.6216\n",
       "6        8240.5896\n",
       "11      27808.7251\n",
       "           ...    \n",
       "1322    12981.3457\n",
       "1323    43896.3763\n",
       "1327     9377.9047\n",
       "1330    12629.1656\n",
       "1335     1629.8335\n",
       "Name: charges, Length: 364, dtype: float64"
      ]
     },
     "execution_count": 54,
     "metadata": {},
     "output_type": "execute_result"
    }
   ],
   "source": [
    "groups['southeast']"
   ]
  },
  {
   "cell_type": "code",
   "execution_count": 55,
   "id": "3e7ac82b-670f-4491-a41d-effb684ed73c",
   "metadata": {},
   "outputs": [
    {
     "name": "stdout",
     "output_type": "stream",
     "text": [
      "southwest = 8 outliers\n",
      "southeast = 2 outliers\n",
      "northwest = 7 outliers\n",
      "northeast = 4 outliers\n"
     ]
    }
   ],
   "source": [
    "# remove significant outliers\n",
    "\n",
    "for i, data in groups.items():\n",
    "    # find outliers\n",
    "    outliers = np.abs(stats.zscore(data)) > 3\n",
    "\n",
    "    # prints number of outliers per group\n",
    "    print(f'{i} = {outliers.sum()} outliers')\n",
    "\n",
    "    # remove outliers\n",
    "    data = data.loc[~outliers]\n",
    "    groups[i] = data"
   ]
  },
  {
   "cell_type": "code",
   "execution_count": 56,
   "id": "df6b60f5-43e8-4801-b309-1f6fee1491b5",
   "metadata": {},
   "outputs": [],
   "source": [
    "# normality test on each group\n",
    "norm_results = {}\n",
    "\n",
    "for i, data in groups.items():\n",
    "    stat, p = stats.normaltest(data)\n",
    "\n",
    "    # save p value, test statisticts and size of group\n",
    "    norm_results[i] = {'n': len(data),\n",
    "                       'p': p,\n",
    "                       'test stat':stat}"
   ]
  },
  {
   "cell_type": "code",
   "execution_count": 57,
   "id": "88d523b7-dc23-4164-bbe6-19fa1ac35db3",
   "metadata": {},
   "outputs": [
    {
     "data": {
      "text/html": [
       "<div>\n",
       "<style scoped>\n",
       "    .dataframe tbody tr th:only-of-type {\n",
       "        vertical-align: middle;\n",
       "    }\n",
       "\n",
       "    .dataframe tbody tr th {\n",
       "        vertical-align: top;\n",
       "    }\n",
       "\n",
       "    .dataframe thead th {\n",
       "        text-align: right;\n",
       "    }\n",
       "</style>\n",
       "<table border=\"1\" class=\"dataframe\">\n",
       "  <thead>\n",
       "    <tr style=\"text-align: right;\">\n",
       "      <th></th>\n",
       "      <th>n</th>\n",
       "      <th>p</th>\n",
       "      <th>test stat</th>\n",
       "    </tr>\n",
       "  </thead>\n",
       "  <tbody>\n",
       "    <tr>\n",
       "      <th>southwest</th>\n",
       "      <td>317.0</td>\n",
       "      <td>7.728611e-22</td>\n",
       "      <td>97.223886</td>\n",
       "    </tr>\n",
       "    <tr>\n",
       "      <th>southeast</th>\n",
       "      <td>362.0</td>\n",
       "      <td>1.936990e-13</td>\n",
       "      <td>58.544942</td>\n",
       "    </tr>\n",
       "    <tr>\n",
       "      <th>northwest</th>\n",
       "      <td>318.0</td>\n",
       "      <td>2.940543e-19</td>\n",
       "      <td>85.341045</td>\n",
       "    </tr>\n",
       "    <tr>\n",
       "      <th>northeast</th>\n",
       "      <td>320.0</td>\n",
       "      <td>3.557877e-17</td>\n",
       "      <td>75.749565</td>\n",
       "    </tr>\n",
       "  </tbody>\n",
       "</table>\n",
       "</div>"
      ],
      "text/plain": [
       "               n             p  test stat\n",
       "southwest  317.0  7.728611e-22  97.223886\n",
       "southeast  362.0  1.936990e-13  58.544942\n",
       "northwest  318.0  2.940543e-19  85.341045\n",
       "northeast  320.0  3.557877e-17  75.749565"
      ]
     },
     "execution_count": 57,
     "metadata": {},
     "output_type": "execute_result"
    }
   ],
   "source": [
    "# convert dict to df and Transform\n",
    "norm_results_df = pd.DataFrame(norm_results).T\n",
    "norm_results_df"
   ]
  },
  {
   "cell_type": "code",
   "execution_count": 58,
   "id": "ad5b0260-f35d-44d3-abaa-7ab661ea384d",
   "metadata": {},
   "outputs": [
    {
     "data": {
      "text/html": [
       "<div>\n",
       "<style scoped>\n",
       "    .dataframe tbody tr th:only-of-type {\n",
       "        vertical-align: middle;\n",
       "    }\n",
       "\n",
       "    .dataframe tbody tr th {\n",
       "        vertical-align: top;\n",
       "    }\n",
       "\n",
       "    .dataframe thead th {\n",
       "        text-align: right;\n",
       "    }\n",
       "</style>\n",
       "<table border=\"1\" class=\"dataframe\">\n",
       "  <thead>\n",
       "    <tr style=\"text-align: right;\">\n",
       "      <th></th>\n",
       "      <th>n</th>\n",
       "      <th>p</th>\n",
       "      <th>test stat</th>\n",
       "      <th>sig</th>\n",
       "    </tr>\n",
       "  </thead>\n",
       "  <tbody>\n",
       "    <tr>\n",
       "      <th>southwest</th>\n",
       "      <td>317.0</td>\n",
       "      <td>7.728611e-22</td>\n",
       "      <td>97.223886</td>\n",
       "      <td>True</td>\n",
       "    </tr>\n",
       "    <tr>\n",
       "      <th>southeast</th>\n",
       "      <td>362.0</td>\n",
       "      <td>1.936990e-13</td>\n",
       "      <td>58.544942</td>\n",
       "      <td>True</td>\n",
       "    </tr>\n",
       "    <tr>\n",
       "      <th>northwest</th>\n",
       "      <td>318.0</td>\n",
       "      <td>2.940543e-19</td>\n",
       "      <td>85.341045</td>\n",
       "      <td>True</td>\n",
       "    </tr>\n",
       "    <tr>\n",
       "      <th>northeast</th>\n",
       "      <td>320.0</td>\n",
       "      <td>3.557877e-17</td>\n",
       "      <td>75.749565</td>\n",
       "      <td>True</td>\n",
       "    </tr>\n",
       "  </tbody>\n",
       "</table>\n",
       "</div>"
      ],
      "text/plain": [
       "               n             p  test stat   sig\n",
       "southwest  317.0  7.728611e-22  97.223886  True\n",
       "southeast  362.0  1.936990e-13  58.544942  True\n",
       "northwest  318.0  2.940543e-19  85.341045  True\n",
       "northeast  320.0  3.557877e-17  75.749565  True"
      ]
     },
     "execution_count": 58,
     "metadata": {},
     "output_type": "execute_result"
    }
   ],
   "source": [
    "# check significance of value\n",
    "norm_results_df['sig'] = norm_results_df['p'] < 0.05\n",
    "norm_results_df"
   ]
  },
  {
   "cell_type": "markdown",
   "id": "cff6959a-72cb-493a-9c9a-1e7b7b69ced0",
   "metadata": {},
   "source": [
    "Each region does not have a normal distribution, however, the number of samples in each group is greater than 15 so I will proceed with this test."
   ]
  },
  {
   "cell_type": "code",
   "execution_count": 59,
   "id": "c7f134b2-f363-49bd-ba8b-5f35d194215f",
   "metadata": {},
   "outputs": [
    {
     "data": {
      "text/plain": [
       "LeveneResult(statistic=9.518349004554441, pvalue=3.2035503711783993e-06)"
      ]
     },
     "execution_count": 59,
     "metadata": {},
     "output_type": "execute_result"
    }
   ],
   "source": [
    "# testing assumptions of equal variance\n",
    "stats.levene(*groups.values())"
   ]
  },
  {
   "cell_type": "markdown",
   "id": "dcd27061-4dd6-48be-a5cb-11ae8ab46fe6",
   "metadata": {},
   "source": [
    "The p value is < 0.05 which indicates that the assumption of equal variance was not met. I will use the [Kurskal-Wallis](https://www.geeksforgeeks.org/how-to-perform-a-kruskal-wallis-test-in-python/) test going forward."
   ]
  },
  {
   "cell_type": "code",
   "execution_count": 60,
   "id": "70c36cab-4ea5-43c1-834f-effd30cdb9c7",
   "metadata": {},
   "outputs": [
    {
     "data": {
      "text/plain": [
       "KruskalResult(statistic=6.914045702545643, pvalue=0.07468847911322242)"
      ]
     },
     "execution_count": 60,
     "metadata": {},
     "output_type": "execute_result"
    }
   ],
   "source": [
    "results = stats.kruskal(*groups.values())\n",
    "results"
   ]
  },
  {
   "cell_type": "markdown",
   "id": "0c058c77-8f9c-4135-aec0-70019b1b7be0",
   "metadata": {},
   "source": [
    "The p value is greater than 0.05 so I will accept the null hypothesis that there is no significant difference in the charges of each region."
   ]
  },
  {
   "cell_type": "code",
   "execution_count": 61,
   "id": "26826301-da37-400b-92be-d49bb528bd22",
   "metadata": {},
   "outputs": [
    {
     "data": {
      "image/png": "[encoded data removed]",
      "text/plain": [
       "<Figure size 600x400 with 1 Axes>"
      ]
     },
     "metadata": {},
     "output_type": "display_data"
    }
   ],
   "source": [
    "fig, ax = plt.subplots(figsize=(6,4))\n",
    "sns.barplot(data=df, x='region', y='charges')\n",
    "ax.set_title('Average charge per region');"
   ]
  },
  {
   "cell_type": "markdown",
   "id": "05eef6bd-a18d-4c45-9e82-a78004ba2198",
   "metadata": {},
   "source": [
    "As seen from the bar plot above, each region has a similar average charge"
   ]
  }
 ],
 "metadata": {
  "kernelspec": {
   "display_name": "Python 3 (ipykernel)",
   "language": "python",
   "name": "python3"
  },
  "language_info": {
   "codemirror_mode": {
    "name": "ipython",
    "version": 3
   },
   "file_extension": ".py",
   "mimetype": "text/x-python",
   "name": "python",
   "nbconvert_exporter": "python",
   "pygments_lexer": "ipython3",
   "version": "3.10.10"
  },
  "widgets": {
   "application/vnd.jupyter.widget-state+json": {
    "state": {},
    "version_major": 2,
    "version_minor": 0
   }
  }
 },
 "nbformat": 4,
 "nbformat_minor": 5
}
